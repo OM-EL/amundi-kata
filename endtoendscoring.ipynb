{
 "cells": [
  {
   "cell_type": "code",
   "execution_count": 1,
   "id": "4d987dc9-ca5c-4360-a48a-0a76986f333a",
   "metadata": {
    "tags": []
   },
   "outputs": [],
   "source": [
    "import json\n",
    "\n",
    "mapping_path = \"themes.json\"\n",
    "with open(mapping_path, 'r') as json_file:\n",
    "    themes = json.load(json_file)"
   ]
  },
  {
   "cell_type": "code",
   "execution_count": 2,
   "id": "076d78ae-042a-48fb-8188-a0376dd90496",
   "metadata": {
    "tags": []
   },
   "outputs": [],
   "source": [
    "main_theme = list(themes.keys())[0]\n",
    "secondary_theme = themes[main_theme][0]"
   ]
  },
  {
   "cell_type": "code",
   "execution_count": 3,
   "id": "ff94387a-1338-4387-a1fa-a9a074130c2f",
   "metadata": {
    "tags": []
   },
   "outputs": [
    {
     "data": {
      "text/plain": [
       "'Gross Scope 1 GHG emissions'"
      ]
     },
     "execution_count": 3,
     "metadata": {},
     "output_type": "execute_result"
    }
   ],
   "source": [
    "secondary_theme"
   ]
  },
  {
   "cell_type": "code",
   "execution_count": 4,
   "id": "e7865bd6-9252-4741-bf16-fc739483f244",
   "metadata": {
    "tags": []
   },
   "outputs": [],
   "source": [
    "year = '2023'\n",
    "\n",
    "mapping_path = \"mapping_theme_description.json\"\n",
    "with open(mapping_path, 'r') as json_file:\n",
    "    mapping_theme_description = json.load(json_file)\n",
    "    \n",
    "description_theme = mapping_theme_description[secondary_theme]"
   ]
  },
  {
   "cell_type": "code",
   "execution_count": 5,
   "id": "1f98bcaf-bcd6-4346-baa6-048f961614c3",
   "metadata": {
    "tags": []
   },
   "outputs": [
    {
     "data": {
      "text/plain": [
       "'Total greenhouse gas (GHG) emissions resulting directly from sources owned or controlled by the company, typically expressed in metric tons of CO2 equivalent.'"
      ]
     },
     "execution_count": 5,
     "metadata": {},
     "output_type": "execute_result"
    }
   ],
   "source": [
    "description_theme"
   ]
  },
  {
   "cell_type": "markdown",
   "id": "e722147b-282f-453f-bf72-e166179f0815",
   "metadata": {
    "tags": []
   },
   "source": [
    "# Inference"
   ]
  },
  {
   "cell_type": "code",
   "execution_count": 6,
   "id": "7b5c9629-6a66-4c27-886e-c0b57e7d59df",
   "metadata": {
    "tags": []
   },
   "outputs": [
    {
     "data": {
      "application/vnd.jupyter.widget-view+json": {
       "model_id": "2cf9eecd01e4476fa30c519d68fb41fa",
       "version_major": 2,
       "version_minor": 0
      },
      "text/plain": [
       "  0%|          | 0/2 [00:00<?, ?it/s]"
      ]
     },
     "metadata": {},
     "output_type": "display_data"
    }
   ],
   "source": [
    "from inference import extract_info\n",
    "import os\n",
    "from tqdm.auto import tqdm\n",
    "import pandas as pd\n",
    "# Path to the Documents folder\n",
    "documents_folder = os.path.expanduser(\"documents\")\n",
    "\n",
    "# Get all PDF file paths in the Documents folder\n",
    "pdf_files = [\n",
    "    os.path.join(documents_folder, file)\n",
    "    for file in os.listdir(documents_folder)\n",
    "    if file.endswith(\".pdf\")\n",
    "]\n",
    "\n",
    "# Generate result_df by processing each company's PDF\n",
    "result_data = []\n",
    "# Loop through each PDF file and process\n",
    "for file_path in tqdm(pdf_files):\n",
    "    name = os.path.splitext(os.path.basename(file_path))[0]\n",
    "    path_vectorstore = os.path.join(\"vectorstores\", f\"Vectorstore_{name}\")\n",
    "    result = extract_info(path_vectorstore, secondary_theme, description_theme, year)\n",
    "    try:\n",
    "        extract_data = result\n",
    "        result_data.append(\n",
    "            {\n",
    "                \"company_name\": name,\n",
    "                \"value\": extract_data.value,\n",
    "                \"unit\": extract_data.unit,\n",
    "                \"page\": extract_data.page,\n",
    "                \"extract\": extract_data.extract,\n",
    "                \"extract_type\": extract_data.extract_type,\n",
    "                \"paragraph\": extract_data.paragraph,\n",
    "                \"num_extracts\": 1#len(result),\n",
    "            }\n",
    "        )\n",
    "    except Exception as e:\n",
    "        print(f\"{name}: {result}\")\n",
    "        result_data.append(\n",
    "            {\n",
    "                \"company_name\": name,\n",
    "                \"value\": 0,\n",
    "                \"unit\": \"\",\n",
    "                \"page\": 0,\n",
    "                \"extract\": \"\",\n",
    "                \"extract_type\": \"\",\n",
    "                \"paragraph\": \"\",\n",
    "                \"num_extracts\":0,\n",
    "\n",
    "            }\n",
    "        )\n",
    "\n",
    "# Create the result_df with the extracted information\n",
    "result_df = pd.DataFrame(result_data)"
   ]
  },
  {
   "cell_type": "code",
   "execution_count": 8,
   "id": "52d2deed-2d4e-4d58-9476-64f00c55e053",
   "metadata": {
    "tags": []
   },
   "outputs": [],
   "source": [
    "saving_path = os.path.join('results',f'{secondary_theme}_{year}.csv')\n",
    "result_df.to_csv(saving_path, index=False)"
   ]
  },
  {
   "cell_type": "code",
   "execution_count": 9,
   "id": "eb393068-acbd-4f20-a7bf-748ce492ddbf",
   "metadata": {
    "tags": []
   },
   "outputs": [
    {
     "data": {
      "text/html": [
       "<div>\n",
       "<style scoped>\n",
       "    .dataframe tbody tr th:only-of-type {\n",
       "        vertical-align: middle;\n",
       "    }\n",
       "\n",
       "    .dataframe tbody tr th {\n",
       "        vertical-align: top;\n",
       "    }\n",
       "\n",
       "    .dataframe thead th {\n",
       "        text-align: right;\n",
       "    }\n",
       "</style>\n",
       "<table border=\"1\" class=\"dataframe\">\n",
       "  <thead>\n",
       "    <tr style=\"text-align: right;\">\n",
       "      <th></th>\n",
       "      <th>company_name</th>\n",
       "      <th>value</th>\n",
       "      <th>unit</th>\n",
       "      <th>page</th>\n",
       "      <th>extract</th>\n",
       "      <th>extract_type</th>\n",
       "      <th>paragraph</th>\n",
       "      <th>num_extracts</th>\n",
       "    </tr>\n",
       "  </thead>\n",
       "  <tbody>\n",
       "    <tr>\n",
       "      <th>0</th>\n",
       "      <td>Eurazeo</td>\n",
       "      <td>None</td>\n",
       "      <td>None</td>\n",
       "      <td>None</td>\n",
       "      <td>None</td>\n",
       "      <td>None</td>\n",
       "      <td>None</td>\n",
       "      <td>1</td>\n",
       "    </tr>\n",
       "    <tr>\n",
       "      <th>1</th>\n",
       "      <td>Abertis</td>\n",
       "      <td>None</td>\n",
       "      <td>None</td>\n",
       "      <td>None</td>\n",
       "      <td>None</td>\n",
       "      <td>None</td>\n",
       "      <td>None</td>\n",
       "      <td>1</td>\n",
       "    </tr>\n",
       "  </tbody>\n",
       "</table>\n",
       "</div>"
      ],
      "text/plain": [
       "  company_name value  unit  page extract extract_type paragraph  num_extracts\n",
       "0      Eurazeo  None  None  None    None         None      None             1\n",
       "1      Abertis  None  None  None    None         None      None             1"
      ]
     },
     "execution_count": 9,
     "metadata": {},
     "output_type": "execute_result"
    }
   ],
   "source": [
    "result_df"
   ]
  },
  {
   "cell_type": "markdown",
   "id": "ac0ac990-6b01-462d-b281-053581f1202a",
   "metadata": {},
   "source": [
    "# Truth df"
   ]
  },
  {
   "cell_type": "code",
   "execution_count": 10,
   "id": "647df28f-9732-458f-a8df-d1b346e8856c",
   "metadata": {
    "tags": []
   },
   "outputs": [],
   "source": [
    "# Load the Excel file\n",
    "import json\n",
    "\n",
    "import pandas as pd\n",
    "\n",
    "# Specify the path to your JSON file\n",
    "file_path = \"ground_truth.json\"\n",
    "\n",
    "# Open the file and load the JSON data\n",
    "with open(file_path, \"r\") as json_file:\n",
    "    data = json.load(json_file)\n",
    "\n",
    "truth_df = pd.DataFrame(data[main_theme][secondary_theme]).transpose()\n",
    "truth_df.index.name = \"company_name\"\n",
    "truth_df = truth_df.reset_index()\n",
    "truth_df['value'] = pd.to_numeric(truth_df['value'], errors='coerce')\n",
    "truth_df['page'] = pd.to_numeric(truth_df['page'], errors='coerce')\n"
   ]
  },
  {
   "cell_type": "code",
   "execution_count": 11,
   "id": "a6896ea1-df38-4c35-a755-1a4ff5b647d5",
   "metadata": {
    "tags": []
   },
   "outputs": [
    {
     "data": {
      "text/html": [
       "<div>\n",
       "<style scoped>\n",
       "    .dataframe tbody tr th:only-of-type {\n",
       "        vertical-align: middle;\n",
       "    }\n",
       "\n",
       "    .dataframe tbody tr th {\n",
       "        vertical-align: top;\n",
       "    }\n",
       "\n",
       "    .dataframe thead th {\n",
       "        text-align: right;\n",
       "    }\n",
       "</style>\n",
       "<table border=\"1\" class=\"dataframe\">\n",
       "  <thead>\n",
       "    <tr style=\"text-align: right;\">\n",
       "      <th></th>\n",
       "      <th>company_name</th>\n",
       "      <th>page</th>\n",
       "      <th>paragraph</th>\n",
       "      <th>value</th>\n",
       "      <th>unit</th>\n",
       "      <th>extract</th>\n",
       "      <th>extract_type</th>\n",
       "    </tr>\n",
       "  </thead>\n",
       "  <tbody>\n",
       "    <tr>\n",
       "      <th>0</th>\n",
       "      <td>Crédit Agricole</td>\n",
       "      <td>164</td>\n",
       "      <td>5.5 MESURES LIÉES À L’EMPREINTE ENVIRONNEMENTA...</td>\n",
       "      <td>26434.00</td>\n",
       "      <td>tCO2e</td>\n",
       "      <td>ÉMISSIONS DE GAZ À EFFET DE SERRE (GES)</td>\n",
       "      <td>tableau</td>\n",
       "    </tr>\n",
       "    <tr>\n",
       "      <th>1</th>\n",
       "      <td>BNP</td>\n",
       "      <td>696</td>\n",
       "      <td>7 engagement 1</td>\n",
       "      <td>25437.00</td>\n",
       "      <td>tCO2e</td>\n",
       "      <td>RÉPARTITION DE CES ÉMISSIONS PAR SCOPE DU GHG ...</td>\n",
       "      <td>graphique</td>\n",
       "    </tr>\n",
       "    <tr>\n",
       "      <th>2</th>\n",
       "      <td>Société Générale (assurance)</td>\n",
       "      <td>23</td>\n",
       "      <td>6</td>\n",
       "      <td>61.00</td>\n",
       "      <td>tonne équivalent CO2</td>\n",
       "      <td>Évolutions des émissions de CO₂ (tonnes équiva...</td>\n",
       "      <td>tableau</td>\n",
       "    </tr>\n",
       "    <tr>\n",
       "      <th>3</th>\n",
       "      <td>Schneider Electric</td>\n",
       "      <td>312</td>\n",
       "      <td>2.8</td>\n",
       "      <td>112792.00</td>\n",
       "      <td>tCO2e</td>\n",
       "      <td>Gaz à effet de serre (GES)</td>\n",
       "      <td>tableau</td>\n",
       "    </tr>\n",
       "    <tr>\n",
       "      <th>4</th>\n",
       "      <td>Michelin</td>\n",
       "      <td>183</td>\n",
       "      <td>4.1.1 a)</td>\n",
       "      <td>1.04</td>\n",
       "      <td>millions de tonnes de CO2</td>\n",
       "      <td>INVENTAIRE DES ÉMISSIONS DE CO2 SCOPES 1, 2 ET 3</td>\n",
       "      <td>NaN</td>\n",
       "    </tr>\n",
       "    <tr>\n",
       "      <th>5</th>\n",
       "      <td>Carrefour</td>\n",
       "      <td>33</td>\n",
       "      <td>2.1.4.1</td>\n",
       "      <td>782709.00</td>\n",
       "      <td>tCO2e</td>\n",
       "      <td>Scopes 1 et 2 : contribuer à la neutralité car...</td>\n",
       "      <td>tableau</td>\n",
       "    </tr>\n",
       "    <tr>\n",
       "      <th>6</th>\n",
       "      <td>Dassault système</td>\n",
       "      <td>114</td>\n",
       "      <td>4.7.4</td>\n",
       "      <td>27186.00</td>\n",
       "      <td>tCO2e</td>\n",
       "      <td>Renforcer le plan bas carbone Société en cohér...</td>\n",
       "      <td>tableau</td>\n",
       "    </tr>\n",
       "    <tr>\n",
       "      <th>7</th>\n",
       "      <td>Engie</td>\n",
       "      <td>113</td>\n",
       "      <td>3.5.4.1</td>\n",
       "      <td>24496514.00</td>\n",
       "      <td>tCO2e</td>\n",
       "      <td>Émissions directes</td>\n",
       "      <td>tableau</td>\n",
       "    </tr>\n",
       "    <tr>\n",
       "      <th>8</th>\n",
       "      <td>Sanofi</td>\n",
       "      <td>189</td>\n",
       "      <td>3.3.9.3.1</td>\n",
       "      <td>297700.00</td>\n",
       "      <td>tCO2e</td>\n",
       "      <td>Gaz à effet de serre</td>\n",
       "      <td>tableau</td>\n",
       "    </tr>\n",
       "    <tr>\n",
       "      <th>9</th>\n",
       "      <td>Danone</td>\n",
       "      <td>184</td>\n",
       "      <td>5.3 Nature</td>\n",
       "      <td>573.00</td>\n",
       "      <td>ktCO2e</td>\n",
       "      <td>Émissions des scopes 1 et 2 (énergie et indust...</td>\n",
       "      <td>tableau</td>\n",
       "    </tr>\n",
       "    <tr>\n",
       "      <th>10</th>\n",
       "      <td>Renault</td>\n",
       "      <td>121</td>\n",
       "      <td>2.2.2.1.3.2</td>\n",
       "      <td>412439.00</td>\n",
       "      <td>tCO2e</td>\n",
       "      <td>Répartition des émissions de GES par catégorie...</td>\n",
       "      <td>tableau</td>\n",
       "    </tr>\n",
       "    <tr>\n",
       "      <th>11</th>\n",
       "      <td>TAG AG</td>\n",
       "      <td>113</td>\n",
       "      <td>key figures</td>\n",
       "      <td>59235.00</td>\n",
       "      <td>tCO2e</td>\n",
       "      <td>Carbon footprint</td>\n",
       "      <td>tableau</td>\n",
       "    </tr>\n",
       "    <tr>\n",
       "      <th>12</th>\n",
       "      <td>Pearson</td>\n",
       "      <td>50</td>\n",
       "      <td>Metrics and targets</td>\n",
       "      <td>4661.00</td>\n",
       "      <td>tCO2e</td>\n",
       "      <td>Our emissions data</td>\n",
       "      <td>tableau</td>\n",
       "    </tr>\n",
       "    <tr>\n",
       "      <th>13</th>\n",
       "      <td>Vinci Autoroutes</td>\n",
       "      <td>255</td>\n",
       "      <td>Évolution de la consommation d’énergies renouv...</td>\n",
       "      <td>2.20</td>\n",
       "      <td>MtCO2e</td>\n",
       "      <td>En 2023, selon l’approche market-based, 2,4 mi...</td>\n",
       "      <td>texte</td>\n",
       "    </tr>\n",
       "    <tr>\n",
       "      <th>14</th>\n",
       "      <td>Amer Sports</td>\n",
       "      <td>47</td>\n",
       "      <td>Greenhouse gas (GHG) emissions</td>\n",
       "      <td>14687.00</td>\n",
       "      <td>tCO2e</td>\n",
       "      <td>Greenhouse gas (GHG) emissions</td>\n",
       "      <td>tableau</td>\n",
       "    </tr>\n",
       "    <tr>\n",
       "      <th>15</th>\n",
       "      <td>Abertis</td>\n",
       "      <td>67</td>\n",
       "      <td>7.2.2</td>\n",
       "      <td>45074.00</td>\n",
       "      <td>tCO2e</td>\n",
       "      <td>Given the nature of Abertis’ activity, most of...</td>\n",
       "      <td>texte</td>\n",
       "    </tr>\n",
       "    <tr>\n",
       "      <th>16</th>\n",
       "      <td>Accor</td>\n",
       "      <td>134</td>\n",
       "      <td>3</td>\n",
       "      <td>703.00</td>\n",
       "      <td>ktCO2e</td>\n",
       "      <td>Breakdown by scope of Accor’s carbon footprint...</td>\n",
       "      <td>graphe</td>\n",
       "    </tr>\n",
       "    <tr>\n",
       "      <th>17</th>\n",
       "      <td>CMA CGM</td>\n",
       "      <td>78</td>\n",
       "      <td>3.Appendice</td>\n",
       "      <td>25.54</td>\n",
       "      <td>MtCO2</td>\n",
       "      <td>Acting for the planet</td>\n",
       "      <td>tableau</td>\n",
       "    </tr>\n",
       "    <tr>\n",
       "      <th>18</th>\n",
       "      <td>Eurazeo</td>\n",
       "      <td>47</td>\n",
       "      <td>3.2</td>\n",
       "      <td>51.00</td>\n",
       "      <td>tCO2e</td>\n",
       "      <td>Rejets de GES (en tonnes équivalent CO )</td>\n",
       "      <td>tableau</td>\n",
       "    </tr>\n",
       "    <tr>\n",
       "      <th>19</th>\n",
       "      <td>JCDecaux</td>\n",
       "      <td>69</td>\n",
       "      <td>2</td>\n",
       "      <td>23.00</td>\n",
       "      <td>kteqCO2</td>\n",
       "      <td>Measurement of the Group’s carbon emissions</td>\n",
       "      <td>tableau</td>\n",
       "    </tr>\n",
       "    <tr>\n",
       "      <th>20</th>\n",
       "      <td>Zalando</td>\n",
       "      <td>58</td>\n",
       "      <td>Appedix</td>\n",
       "      <td>5193.00</td>\n",
       "      <td>tCO2e</td>\n",
       "      <td>Key figures</td>\n",
       "      <td>tableau</td>\n",
       "    </tr>\n",
       "    <tr>\n",
       "      <th>21</th>\n",
       "      <td>Unilever</td>\n",
       "      <td>50</td>\n",
       "      <td>Note 2</td>\n",
       "      <td>0.62</td>\n",
       "      <td>MtCO2e</td>\n",
       "      <td>Notes on metrics and targets Note 1: Analysis ...</td>\n",
       "      <td>tableau</td>\n",
       "    </tr>\n",
       "    <tr>\n",
       "      <th>22</th>\n",
       "      <td>Siemens</td>\n",
       "      <td>60</td>\n",
       "      <td>4.1</td>\n",
       "      <td>387.00</td>\n",
       "      <td>kteqCO2</td>\n",
       "      <td>Greenhouse gas emissions1</td>\n",
       "      <td>tableau</td>\n",
       "    </tr>\n",
       "    <tr>\n",
       "      <th>23</th>\n",
       "      <td>Merck</td>\n",
       "      <td>212</td>\n",
       "      <td>Indicators</td>\n",
       "      <td>1236.00</td>\n",
       "      <td>kteqCO2</td>\n",
       "      <td>Total greenhouse gas emissions (Scope 1 and 2 ...</td>\n",
       "      <td>tableau</td>\n",
       "    </tr>\n",
       "    <tr>\n",
       "      <th>24</th>\n",
       "      <td>L'Oreal</td>\n",
       "      <td>223</td>\n",
       "      <td>4.3.1.4.1.</td>\n",
       "      <td>66.10</td>\n",
       "      <td>kteqCO2</td>\n",
       "      <td>Émissions de CO2 en 2023 (Scopes 1, 2 et 3) su...</td>\n",
       "      <td>tableau</td>\n",
       "    </tr>\n",
       "    <tr>\n",
       "      <th>25</th>\n",
       "      <td>Infineon</td>\n",
       "      <td>32</td>\n",
       "      <td>Greenhouse gas emissions</td>\n",
       "      <td>246126.00</td>\n",
       "      <td>tCO2e</td>\n",
       "      <td>Our scope 1 emissions in the 2023 fiscal year ...</td>\n",
       "      <td>Texte</td>\n",
       "    </tr>\n",
       "  </tbody>\n",
       "</table>\n",
       "</div>"
      ],
      "text/plain": [
       "                    company_name  page  \\\n",
       "0                Crédit Agricole   164   \n",
       "1                            BNP   696   \n",
       "2   Société Générale (assurance)    23   \n",
       "3             Schneider Electric   312   \n",
       "4                       Michelin   183   \n",
       "5                      Carrefour    33   \n",
       "6               Dassault système   114   \n",
       "7                          Engie   113   \n",
       "8                         Sanofi   189   \n",
       "9                         Danone   184   \n",
       "10                      Renault    121   \n",
       "11                        TAG AG   113   \n",
       "12                       Pearson    50   \n",
       "13              Vinci Autoroutes   255   \n",
       "14                   Amer Sports    47   \n",
       "15                       Abertis    67   \n",
       "16                         Accor   134   \n",
       "17                       CMA CGM    78   \n",
       "18                       Eurazeo    47   \n",
       "19                      JCDecaux    69   \n",
       "20                       Zalando    58   \n",
       "21                      Unilever    50   \n",
       "22                       Siemens    60   \n",
       "23                         Merck   212   \n",
       "24                       L'Oreal   223   \n",
       "25                      Infineon    32   \n",
       "\n",
       "                                            paragraph        value  \\\n",
       "0   5.5 MESURES LIÉES À L’EMPREINTE ENVIRONNEMENTA...     26434.00   \n",
       "1                                      7 engagement 1     25437.00   \n",
       "2                                                   6        61.00   \n",
       "3                                                2.8     112792.00   \n",
       "4                                            4.1.1 a)         1.04   \n",
       "5                                             2.1.4.1    782709.00   \n",
       "6                                               4.7.4     27186.00   \n",
       "7                                             3.5.4.1  24496514.00   \n",
       "8                                           3.3.9.3.1    297700.00   \n",
       "9                                          5.3 Nature       573.00   \n",
       "10                                        2.2.2.1.3.2    412439.00   \n",
       "11                                        key figures     59235.00   \n",
       "12                                Metrics and targets      4661.00   \n",
       "13  Évolution de la consommation d’énergies renouv...         2.20   \n",
       "14                     Greenhouse gas (GHG) emissions     14687.00   \n",
       "15                                              7.2.2     45074.00   \n",
       "16                                                  3       703.00   \n",
       "17                                        3.Appendice        25.54   \n",
       "18                                                3.2        51.00   \n",
       "19                                                  2        23.00   \n",
       "20                                            Appedix      5193.00   \n",
       "21                                             Note 2         0.62   \n",
       "22                                                4.1       387.00   \n",
       "23                                         Indicators      1236.00   \n",
       "24                                         4.3.1.4.1.        66.10   \n",
       "25                           Greenhouse gas emissions    246126.00   \n",
       "\n",
       "                         unit  \\\n",
       "0                       tCO2e   \n",
       "1                       tCO2e   \n",
       "2        tonne équivalent CO2   \n",
       "3                       tCO2e   \n",
       "4   millions de tonnes de CO2   \n",
       "5                       tCO2e   \n",
       "6                       tCO2e   \n",
       "7                       tCO2e   \n",
       "8                       tCO2e   \n",
       "9                      ktCO2e   \n",
       "10                      tCO2e   \n",
       "11                      tCO2e   \n",
       "12                      tCO2e   \n",
       "13                     MtCO2e   \n",
       "14                      tCO2e   \n",
       "15                      tCO2e   \n",
       "16                     ktCO2e   \n",
       "17                      MtCO2   \n",
       "18                      tCO2e   \n",
       "19                    kteqCO2   \n",
       "20                      tCO2e   \n",
       "21                     MtCO2e   \n",
       "22                    kteqCO2   \n",
       "23                    kteqCO2   \n",
       "24                    kteqCO2   \n",
       "25                      tCO2e   \n",
       "\n",
       "                                              extract extract_type  \n",
       "0             ÉMISSIONS DE GAZ À EFFET DE SERRE (GES)      tableau  \n",
       "1   RÉPARTITION DE CES ÉMISSIONS PAR SCOPE DU GHG ...    graphique  \n",
       "2   Évolutions des émissions de CO₂ (tonnes équiva...     tableau   \n",
       "3                          Gaz à effet de serre (GES)     tableau   \n",
       "4    INVENTAIRE DES ÉMISSIONS DE CO2 SCOPES 1, 2 ET 3          NaN  \n",
       "5   Scopes 1 et 2 : contribuer à la neutralité car...     tableau   \n",
       "6   Renforcer le plan bas carbone Société en cohér...     tableau   \n",
       "7                                  Émissions directes     tableau   \n",
       "8                                Gaz à effet de serre     tableau   \n",
       "9   Émissions des scopes 1 et 2 (énergie et indust...      tableau  \n",
       "10  Répartition des émissions de GES par catégorie...     tableau   \n",
       "11                                   Carbon footprint     tableau   \n",
       "12                                 Our emissions data     tableau   \n",
       "13  En 2023, selon l’approche market-based, 2,4 mi...        texte  \n",
       "14                     Greenhouse gas (GHG) emissions     tableau   \n",
       "15  Given the nature of Abertis’ activity, most of...        texte  \n",
       "16  Breakdown by scope of Accor’s carbon footprint...       graphe  \n",
       "17                              Acting for the planet     tableau   \n",
       "18           Rejets de GES (en tonnes équivalent CO )     tableau   \n",
       "19        Measurement of the Group’s carbon emissions     tableau   \n",
       "20                                        Key figures     tableau   \n",
       "21  Notes on metrics and targets Note 1: Analysis ...     tableau   \n",
       "22                          Greenhouse gas emissions1     tableau   \n",
       "23  Total greenhouse gas emissions (Scope 1 and 2 ...     tableau   \n",
       "24  Émissions de CO2 en 2023 (Scopes 1, 2 et 3) su...     tableau   \n",
       "25  Our scope 1 emissions in the 2023 fiscal year ...        Texte  "
      ]
     },
     "execution_count": 11,
     "metadata": {},
     "output_type": "execute_result"
    }
   ],
   "source": [
    "truth_df"
   ]
  },
  {
   "cell_type": "markdown",
   "id": "2f842f69-9de7-4d62-82c7-294ef623e61e",
   "metadata": {},
   "source": [
    "## Scoring"
   ]
  },
  {
   "cell_type": "code",
   "execution_count": 12,
   "id": "2d79b31d-138f-496c-aa40-3ddb23948785",
   "metadata": {
    "tags": []
   },
   "outputs": [],
   "source": [
    "saving_path = os.path.join('results',f'{secondary_theme}_{year}.csv')\n",
    "result_df = pd.read_csv(saving_path)"
   ]
  },
  {
   "cell_type": "code",
   "execution_count": 16,
   "id": "d7a12bbd-5d8e-4617-b87a-ddb43555c00e",
   "metadata": {
    "tags": []
   },
   "outputs": [
    {
     "ename": "ModuleNotFoundError",
     "evalue": "No module named 'sklearn'",
     "output_type": "error",
     "traceback": [
      "\u001b[0;31m---------------------------------------------------------------------------\u001b[0m",
      "\u001b[0;31mModuleNotFoundError\u001b[0m                       Traceback (most recent call last)",
      "Cell \u001b[0;32mIn[16], line 1\u001b[0m\n\u001b[0;32m----> 1\u001b[0m \u001b[38;5;28;01mfrom\u001b[39;00m \u001b[38;5;21;01mscoring\u001b[39;00m \u001b[38;5;28;01mimport\u001b[39;00m (\n\u001b[1;32m      2\u001b[0m     results_comparative_table,\n\u001b[1;32m      3\u001b[0m     calculate_accuracy_for_coherent_units,\n\u001b[1;32m      4\u001b[0m     calculate_accuracy_for_sources,\n\u001b[1;32m      5\u001b[0m     results_comparative_table,\n\u001b[1;32m      6\u001b[0m     calculate_precision_recall\n\u001b[1;32m      7\u001b[0m )\n",
      "File \u001b[0;32m~/notebooks/Omar/scoring.py:11\u001b[0m\n\u001b[1;32m      8\u001b[0m \u001b[38;5;28;01mfrom\u001b[39;00m \u001b[38;5;21;01mlangchain_core\u001b[39;00m\u001b[38;5;21;01m.\u001b[39;00m\u001b[38;5;21;01mprompts\u001b[39;00m \u001b[38;5;28;01mimport\u001b[39;00m ChatPromptTemplate\n\u001b[1;32m     10\u001b[0m \u001b[38;5;28;01mfrom\u001b[39;00m \u001b[38;5;21;01mpydantic\u001b[39;00m \u001b[38;5;28;01mimport\u001b[39;00m BaseModel, Field\n\u001b[0;32m---> 11\u001b[0m \u001b[38;5;28;01mfrom\u001b[39;00m \u001b[38;5;21;01msklearn\u001b[39;00m\u001b[38;5;21;01m.\u001b[39;00m\u001b[38;5;21;01mmetrics\u001b[39;00m \u001b[38;5;28;01mimport\u001b[39;00m precision_score, recall_score\n\u001b[1;32m     12\u001b[0m \u001b[38;5;28;01mfrom\u001b[39;00m \u001b[38;5;21;01mtqdm\u001b[39;00m \u001b[38;5;28;01mimport\u001b[39;00m tqdm\n\u001b[1;32m     14\u001b[0m \u001b[38;5;28;01mfrom\u001b[39;00m \u001b[38;5;21;01mlangchain_openai\u001b[39;00m \u001b[38;5;28;01mimport\u001b[39;00m AzureChatOpenAI\n",
      "\u001b[0;31mModuleNotFoundError\u001b[0m: No module named 'sklearn'"
     ]
    }
   ],
   "source": [
    "from scoring import (\n",
    "    results_comparative_table,\n",
    "    calculate_accuracy_for_coherent_units,\n",
    "    calculate_accuracy_for_sources,\n",
    "    results_comparative_table,\n",
    "    calculate_precision_recall\n",
    ")"
   ]
  },
  {
   "cell_type": "code",
   "execution_count": 17,
   "id": "e3fb36c6-2488-4dfb-97ea-aba9567074be",
   "metadata": {
    "tags": []
   },
   "outputs": [
    {
     "ename": "NameError",
     "evalue": "name 'results_comparative_table' is not defined",
     "output_type": "error",
     "traceback": [
      "\u001b[0;31m---------------------------------------------------------------------------\u001b[0m",
      "\u001b[0;31mNameError\u001b[0m                                 Traceback (most recent call last)",
      "Cell \u001b[0;32mIn[17], line 1\u001b[0m\n\u001b[0;32m----> 1\u001b[0m merged_df \u001b[38;5;241m=\u001b[39m \u001b[43mresults_comparative_table\u001b[49m(truth_df, result_df, with_metric_chain \u001b[38;5;241m=\u001b[39m \u001b[38;5;28;01mTrue\u001b[39;00m)\n",
      "\u001b[0;31mNameError\u001b[0m: name 'results_comparative_table' is not defined"
     ]
    }
   ],
   "source": [
    "merged_df = results_comparative_table(truth_df, result_df, with_metric_chain = True)"
   ]
  },
  {
   "cell_type": "code",
   "execution_count": 18,
   "id": "87a2f88d-5dfe-477b-ac05-195b9d9eafae",
   "metadata": {
    "tags": []
   },
   "outputs": [
    {
     "ename": "NameError",
     "evalue": "name 'merged_df' is not defined",
     "output_type": "error",
     "traceback": [
      "\u001b[0;31m---------------------------------------------------------------------------\u001b[0m",
      "\u001b[0;31mNameError\u001b[0m                                 Traceback (most recent call last)",
      "Cell \u001b[0;32mIn[18], line 1\u001b[0m\n\u001b[0;32m----> 1\u001b[0m \u001b[43mmerged_df\u001b[49m[\u001b[38;5;124m\"\u001b[39m\u001b[38;5;124msubtheme\u001b[39m\u001b[38;5;124m\"\u001b[39m] \u001b[38;5;241m=\u001b[39m secondary_theme\n\u001b[1;32m      2\u001b[0m merged_df[\u001b[38;5;124m\"\u001b[39m\u001b[38;5;124mtheme\u001b[39m\u001b[38;5;124m\"\u001b[39m] \u001b[38;5;241m=\u001b[39m main_theme\n\u001b[1;32m      3\u001b[0m merged_df[\u001b[38;5;124m\"\u001b[39m\u001b[38;5;124msource_accuracy\u001b[39m\u001b[38;5;124m\"\u001b[39m] \u001b[38;5;241m=\u001b[39m calculate_accuracy_for_sources(merged_df)\n",
      "\u001b[0;31mNameError\u001b[0m: name 'merged_df' is not defined"
     ]
    }
   ],
   "source": [
    "merged_df[\"subtheme\"] = secondary_theme\n",
    "merged_df[\"theme\"] = main_theme\n",
    "merged_df[\"source_accuracy\"] = calculate_accuracy_for_sources(merged_df)\n",
    "merged_df[\"unit_coherence_accuracy\"] = calculate_accuracy_for_coherent_units(merged_df)\n",
    "precision_recall = calculate_precision_recall(merged_df)\n",
    "merged_df[\"precision\"] = precision_recall[0]\n",
    "merged_df[\"recall\"] = precision_recall[1]\n",
    "merged_df[\"f1_score\"] = precision_recall[2]\n",
    "merged_df[\"value_accuracy\"] = precision_recall[3]\n",
    "merged_df[\"true_positive\"] = precision_recall[4]\n",
    "merged_df[\"false_positive\"] = precision_recall[5]\n",
    "merged_df[\"true_negative\"] = precision_recall[6]\n",
    "merged_df[\"false_negative\"] = precision_recall[7]\n"
   ]
  },
  {
   "cell_type": "code",
   "execution_count": 10,
   "id": "cd8c74cd-af7c-42fb-a966-17f2af8c194b",
   "metadata": {
    "tags": []
   },
   "outputs": [],
   "source": [
    "saving_path = os.path.join(\"results\", f\"comparative_{secondary_theme}_{year}.csv\")\n",
    "merged_df.to_csv(saving_path, sep=\"|\", index=False, encoding=\"utf-8\")"
   ]
  },
  {
   "cell_type": "markdown",
   "id": "3123f60e-75ec-4ea8-ba88-a05fa8dc51f3",
   "metadata": {},
   "source": [
    "# Debug"
   ]
  },
  {
   "cell_type": "markdown",
   "id": "96a425f3-0350-4dd3-967e-ae4ce8e167b2",
   "metadata": {},
   "source": [
    "### False positive"
   ]
  },
  {
   "cell_type": "code",
   "execution_count": 19,
   "id": "7f37d5ce-d509-49c0-bc90-532a1909444e",
   "metadata": {
    "tags": []
   },
   "outputs": [
    {
     "ename": "NameError",
     "evalue": "name 'merged_df' is not defined",
     "output_type": "error",
     "traceback": [
      "\u001b[0;31m---------------------------------------------------------------------------\u001b[0m",
      "\u001b[0;31mNameError\u001b[0m                                 Traceback (most recent call last)",
      "Cell \u001b[0;32mIn[19], line 1\u001b[0m\n\u001b[0;32m----> 1\u001b[0m \u001b[43mmerged_df\u001b[49m\u001b[38;5;241m.\u001b[39mloc[\n\u001b[1;32m      2\u001b[0m     (\n\u001b[1;32m      3\u001b[0m         (merged_df[\u001b[38;5;124m\"\u001b[39m\u001b[38;5;124mvalue_result_scale\u001b[39m\u001b[38;5;124m\"\u001b[39m] \u001b[38;5;241m!=\u001b[39m \u001b[38;5;241m0\u001b[39m)\n\u001b[1;32m      4\u001b[0m         \u001b[38;5;241m&\u001b[39m (merged_df[\u001b[38;5;124m\"\u001b[39m\u001b[38;5;124mvalue_truth\u001b[39m\u001b[38;5;124m\"\u001b[39m] \u001b[38;5;241m!=\u001b[39m merged_df[\u001b[38;5;124m\"\u001b[39m\u001b[38;5;124mvalue_result_scale\u001b[39m\u001b[38;5;124m\"\u001b[39m])\n\u001b[1;32m      5\u001b[0m     )\n\u001b[1;32m      6\u001b[0m ][\n\u001b[1;32m      7\u001b[0m     [\n\u001b[1;32m      8\u001b[0m         \u001b[38;5;124m\"\u001b[39m\u001b[38;5;124mcompany_name\u001b[39m\u001b[38;5;124m\"\u001b[39m,\n\u001b[1;32m      9\u001b[0m         \u001b[38;5;124m\"\u001b[39m\u001b[38;5;124mvalue_result\u001b[39m\u001b[38;5;124m\"\u001b[39m,\n\u001b[1;32m     10\u001b[0m         \u001b[38;5;124m\"\u001b[39m\u001b[38;5;124munit_result\u001b[39m\u001b[38;5;124m\"\u001b[39m,\n\u001b[1;32m     11\u001b[0m \u001b[38;5;66;03m#        \"value_result_scale\",\u001b[39;00m\n\u001b[1;32m     12\u001b[0m         \u001b[38;5;124m\"\u001b[39m\u001b[38;5;124mvalue_truth\u001b[39m\u001b[38;5;124m\"\u001b[39m,\n\u001b[1;32m     13\u001b[0m         \u001b[38;5;124m\"\u001b[39m\u001b[38;5;124munit_truth\u001b[39m\u001b[38;5;124m\"\u001b[39m,\n\u001b[1;32m     14\u001b[0m         \u001b[38;5;124m\"\u001b[39m\u001b[38;5;124mpage_result\u001b[39m\u001b[38;5;124m\"\u001b[39m,\n\u001b[1;32m     15\u001b[0m         \u001b[38;5;124m\"\u001b[39m\u001b[38;5;124mpage_truth\u001b[39m\u001b[38;5;124m\"\u001b[39m,\n\u001b[1;32m     16\u001b[0m         \u001b[38;5;124m\"\u001b[39m\u001b[38;5;124mnum_extracts\u001b[39m\u001b[38;5;124m\"\u001b[39m,\n\u001b[1;32m     17\u001b[0m \u001b[38;5;66;03m#        \"extract_result\"\u001b[39;00m\n\u001b[1;32m     18\u001b[0m     ]\n\u001b[1;32m     19\u001b[0m ]\n",
      "\u001b[0;31mNameError\u001b[0m: name 'merged_df' is not defined"
     ]
    }
   ],
   "source": [
    "merged_df.loc[\n",
    "    (\n",
    "        (merged_df[\"value_result_scale\"] != 0)\n",
    "        & (merged_df[\"value_truth\"] != merged_df[\"value_result_scale\"])\n",
    "    )\n",
    "][\n",
    "    [\n",
    "        \"company_name\",\n",
    "        \"value_result\",\n",
    "        \"unit_result\",\n",
    "#        \"value_result_scale\",\n",
    "        \"value_truth\",\n",
    "        \"unit_truth\",\n",
    "        \"page_result\",\n",
    "        \"page_truth\",\n",
    "        \"num_extracts\",\n",
    "#        \"extract_result\"\n",
    "    ]\n",
    "]"
   ]
  },
  {
   "cell_type": "markdown",
   "id": "3442cc27-f267-4985-adc0-b7a9b3dfe300",
   "metadata": {},
   "source": [
    "### False negative"
   ]
  },
  {
   "cell_type": "code",
   "execution_count": 20,
   "id": "24cae275-d540-47d6-9ea7-266a623ad03b",
   "metadata": {
    "tags": []
   },
   "outputs": [
    {
     "ename": "NameError",
     "evalue": "name 'merged_df' is not defined",
     "output_type": "error",
     "traceback": [
      "\u001b[0;31m---------------------------------------------------------------------------\u001b[0m",
      "\u001b[0;31mNameError\u001b[0m                                 Traceback (most recent call last)",
      "Cell \u001b[0;32mIn[20], line 1\u001b[0m\n\u001b[0;32m----> 1\u001b[0m \u001b[43mmerged_df\u001b[49m\u001b[38;5;241m.\u001b[39mloc[\n\u001b[1;32m      2\u001b[0m     (merged_df[\u001b[38;5;124m\"\u001b[39m\u001b[38;5;124mvalue_result_scale\u001b[39m\u001b[38;5;124m\"\u001b[39m] \u001b[38;5;241m==\u001b[39m \u001b[38;5;241m0\u001b[39m) \u001b[38;5;241m&\u001b[39m \u001b[38;5;241m~\u001b[39m(merged_df[\u001b[38;5;124m\"\u001b[39m\u001b[38;5;124mvalue_truth\u001b[39m\u001b[38;5;124m\"\u001b[39m]\u001b[38;5;241m.\u001b[39misna())\n\u001b[1;32m      3\u001b[0m ][\n\u001b[1;32m      4\u001b[0m     [\n\u001b[1;32m      5\u001b[0m         \u001b[38;5;124m\"\u001b[39m\u001b[38;5;124mcompany_name\u001b[39m\u001b[38;5;124m\"\u001b[39m,\n\u001b[1;32m      6\u001b[0m         \u001b[38;5;124m\"\u001b[39m\u001b[38;5;124mvalue_result\u001b[39m\u001b[38;5;124m\"\u001b[39m,\n\u001b[1;32m      7\u001b[0m         \u001b[38;5;124m\"\u001b[39m\u001b[38;5;124mvalue_result_scale\u001b[39m\u001b[38;5;124m\"\u001b[39m,\n\u001b[1;32m      8\u001b[0m         \u001b[38;5;124m\"\u001b[39m\u001b[38;5;124mvalue_truth\u001b[39m\u001b[38;5;124m\"\u001b[39m,\n\u001b[1;32m      9\u001b[0m         \u001b[38;5;124m\"\u001b[39m\u001b[38;5;124mpage_result\u001b[39m\u001b[38;5;124m\"\u001b[39m,\n\u001b[1;32m     10\u001b[0m         \u001b[38;5;124m\"\u001b[39m\u001b[38;5;124mpage_truth\u001b[39m\u001b[38;5;124m\"\u001b[39m,\n\u001b[1;32m     11\u001b[0m     ]\n\u001b[1;32m     12\u001b[0m ]\n",
      "\u001b[0;31mNameError\u001b[0m: name 'merged_df' is not defined"
     ]
    }
   ],
   "source": [
    "merged_df.loc[\n",
    "    (merged_df[\"value_result_scale\"] == 0) & ~(merged_df[\"value_truth\"].isna())\n",
    "][\n",
    "    [\n",
    "        \"company_name\",\n",
    "        \"value_result\",\n",
    "        \"value_result_scale\",\n",
    "        \"value_truth\",\n",
    "        \"page_result\",\n",
    "        \"page_truth\",\n",
    "    ]\n",
    "]"
   ]
  },
  {
   "cell_type": "code",
   "execution_count": 21,
   "id": "6187dbe5-9435-4ebb-822d-072f2d33945e",
   "metadata": {
    "tags": []
   },
   "outputs": [
    {
     "name": "stdout",
     "output_type": "stream",
     "text": [
      "All files in the current directory have been zipped into 'all_files.zip'.\n"
     ]
    }
   ],
   "source": [
    "import os\n",
    "import zipfile\n",
    "\n",
    "# Specify the name of the zip file\n",
    "zip_file_name = \"all_files.zip\"\n",
    "\n",
    "# Create a new zip file\n",
    "with zipfile.ZipFile(zip_file_name, 'w') as zipf:\n",
    "    # Iterate over all the files in the current directory\n",
    "    for file_name in os.listdir('.'):\n",
    "        # Check if it is a file (not a directory)\n",
    "        if os.path.isfile(file_name):\n",
    "            # Add the file to the zip archive\n",
    "            zipf.write(file_name)\n",
    "\n",
    "print(f\"All files in the current directory have been zipped into '{zip_file_name}'.\")\n"
   ]
  },
  {
   "cell_type": "code",
   "execution_count": null,
   "id": "38c2f618-4380-43cb-87b7-6c3d45641896",
   "metadata": {},
   "outputs": [],
   "source": []
  }
 ],
 "metadata": {
  "kernelspec": {
   "display_name": "alto_studio",
   "language": "python",
   "name": "alto_studio"
  },
  "language_info": {
   "codemirror_mode": {
    "name": "ipython",
    "version": 3
   },
   "file_extension": ".py",
   "mimetype": "text/x-python",
   "name": "python",
   "nbconvert_exporter": "python",
   "pygments_lexer": "ipython3",
   "version": "3.11.6"
  }
 },
 "nbformat": 4,
 "nbformat_minor": 5
}
